{
  "nbformat": 4,
  "nbformat_minor": 0,
  "metadata": {
    "kernelspec": {
      "display_name": "Python 3",
      "language": "python",
      "name": "python3"
    },
    "language_info": {
      "codemirror_mode": {
        "name": "ipython",
        "version": 3
      },
      "file_extension": ".py",
      "mimetype": "text/x-python",
      "name": "python",
      "nbconvert_exporter": "python",
      "pygments_lexer": "ipython3",
      "version": "3.7.6"
    },
    "toc": {
      "base_numbering": 1,
      "nav_menu": {},
      "number_sections": true,
      "sideBar": true,
      "skip_h1_title": false,
      "title_cell": "Table of Contents",
      "title_sidebar": "Contents",
      "toc_cell": false,
      "toc_position": {},
      "toc_section_display": true,
      "toc_window_display": false
    },
    "varInspector": {
      "cols": {
        "lenName": 16,
        "lenType": 16,
        "lenVar": 40
      },
      "kernels_config": {
        "python": {
          "delete_cmd_postfix": "",
          "delete_cmd_prefix": "del ",
          "library": "var_list.py",
          "varRefreshCmd": "print(var_dic_list())"
        },
        "r": {
          "delete_cmd_postfix": ") ",
          "delete_cmd_prefix": "rm(",
          "library": "var_list.r",
          "varRefreshCmd": "cat(var_dic_list()) "
        }
      },
      "types_to_exclude": [
        "module",
        "function",
        "builtin_function_or_method",
        "instance",
        "_Feature"
      ],
      "window_display": false
    },
    "colab": {
      "name": "Boxes-Computation.ipynb",
      "provenance": [],
      "toc_visible": true,
      "include_colab_link": true
    }
  },
  "cells": [
    {
      "cell_type": "markdown",
      "metadata": {
        "id": "view-in-github",
        "colab_type": "text"
      },
      "source": [
        "<a href=\"https://colab.research.google.com/github/BenSaintKoff/Scoring_project/blob/master/Boxes_Computation.ipynb\" target=\"_parent\"><img src=\"https://colab.research.google.com/assets/colab-badge.svg\" alt=\"Open In Colab\"/></a>"
      ]
    },
    {
      "cell_type": "markdown",
      "metadata": {
        "id": "coJFUyeugW-V",
        "colab_type": "text"
      },
      "source": [
        "# Boxes Computation"
      ]
    },
    {
      "cell_type": "markdown",
      "metadata": {
        "id": "pWuh1CIJgW-c",
        "colab_type": "text"
      },
      "source": [
        "In this exercise, you will use the TensorFlow object detection API to get bounding boxes and classes on images.\n",
        "\n",
        "But first, we need some installation."
      ]
    },
    {
      "cell_type": "markdown",
      "metadata": {
        "id": "57HX9KtNgW-f",
        "colab_type": "text"
      },
      "source": [
        "## I. Installation"
      ]
    },
    {
      "cell_type": "markdown",
      "metadata": {
        "id": "kCYCqd58gW-h",
        "colab_type": "text"
      },
      "source": [
        "We will here follow the installation guide of the API, that can be found [here](https://github.com/tensorflow/models/blob/master/research/object_detection/g3doc/installation.md)."
      ]
    },
    {
      "cell_type": "markdown",
      "metadata": {
        "id": "KlAda0XegW-i",
        "colab_type": "text"
      },
      "source": [
        "### I.1. Dependencies"
      ]
    },
    {
      "cell_type": "markdown",
      "metadata": {
        "id": "RRWj4gTXgW-k",
        "colab_type": "text"
      },
      "source": [
        "The first thing to do is to install all needed dependencies (if not installed yet):\n",
        "- pip install --user Cython\n",
        "- pip install --user contextlib2\n",
        "- pip install --user pillow\n",
        "- pip install --user lxml\n",
        "- pip install --user jupyter\n",
        "- pip install --user matplotlib\n",
        "\n"
      ]
    },
    {
      "cell_type": "code",
      "metadata": {
        "id": "Gg9XgiGjgW-o",
        "colab_type": "code",
        "colab": {}
      },
      "source": [
        ""
      ],
      "execution_count": 0,
      "outputs": []
    },
    {
      "cell_type": "markdown",
      "metadata": {
        "id": "q4QqC_FtgW-y",
        "colab_type": "text"
      },
      "source": [
        "### I.2. Models"
      ]
    },
    {
      "cell_type": "markdown",
      "metadata": {
        "id": "4COwPBjwgW-z",
        "colab_type": "text"
      },
      "source": [
        "Now we will download the models (i.e. the architecture and trained weights of neural networks). They are available in the so called [detection model zoo](https://github.com/tensorflow/models/blob/master/research/object_detection/g3doc/detection_model_zoo.md).\n",
        "\n",
        "For this exercise, we will use first the **faster_rcnn_inception_v2_coco** model: download it.\n",
        "\n",
        "You should get a .tar.gz file, containing (among other files) `frozen-inference-graph.pb`: this is what we will use to perform object detection.\n",
        "\n",
        "So extract it in the `data/models` folder."
      ]
    },
    {
      "cell_type": "code",
      "metadata": {
        "id": "uXrdoOXigzSY",
        "colab_type": "code",
        "outputId": "6e5b45ac-b375-4b6f-8b6d-66a08c8a7ee6",
        "colab": {
          "base_uri": "https://localhost:8080/",
          "height": 72
        }
      },
      "source": [
        "!curl http://download.tensorflow.org/models/object_detection/faster_rcnn_inception_v2_coco_2018_01_28.tar.gz --output faster_rcnn_inception_v2_coco.tar.gz"
      ],
      "execution_count": 0,
      "outputs": [
        {
          "output_type": "stream",
          "text": [
            "  % Total    % Received % Xferd  Average Speed   Time    Time     Time  Current\n",
            "                                 Dload  Upload   Total   Spent    Left  Speed\n",
            "100  142M  100  142M    0     0   128M      0  0:00:01  0:00:01 --:--:--  128M\n"
          ],
          "name": "stdout"
        }
      ]
    },
    {
      "cell_type": "code",
      "metadata": {
        "id": "SrwQLOOYg3GR",
        "colab_type": "code",
        "outputId": "646d4030-d070-480f-8860-dff8177d6762",
        "colab": {
          "base_uri": "https://localhost:8080/",
          "height": 199
        }
      },
      "source": [
        "!tar xvzf faster_rcnn_inception_v2_coco.tar.gz"
      ],
      "execution_count": 0,
      "outputs": [
        {
          "output_type": "stream",
          "text": [
            "faster_rcnn_inception_v2_coco_2018_01_28/\n",
            "faster_rcnn_inception_v2_coco_2018_01_28/model.ckpt.index\n",
            "faster_rcnn_inception_v2_coco_2018_01_28/checkpoint\n",
            "faster_rcnn_inception_v2_coco_2018_01_28/pipeline.config\n",
            "faster_rcnn_inception_v2_coco_2018_01_28/model.ckpt.data-00000-of-00001\n",
            "faster_rcnn_inception_v2_coco_2018_01_28/model.ckpt.meta\n",
            "faster_rcnn_inception_v2_coco_2018_01_28/saved_model/\n",
            "faster_rcnn_inception_v2_coco_2018_01_28/saved_model/saved_model.pb\n",
            "faster_rcnn_inception_v2_coco_2018_01_28/saved_model/variables/\n",
            "faster_rcnn_inception_v2_coco_2018_01_28/frozen_inference_graph.pb\n"
          ],
          "name": "stdout"
        }
      ]
    },
    {
      "cell_type": "code",
      "metadata": {
        "id": "cgY7grzcg3Yq",
        "colab_type": "code",
        "colab": {}
      },
      "source": [
        ""
      ],
      "execution_count": 0,
      "outputs": []
    },
    {
      "cell_type": "markdown",
      "metadata": {
        "id": "03CFUw6xgW-1",
        "colab_type": "text"
      },
      "source": [
        "We also need to clone the `models` part of the TensorFlow Object Detection API. To do so, open your terminal, and in the **root of the vivadata folder**, clone the repo with the following command:\n",
        "\n",
        "```\n",
        "git clone https://github.com/tensorflow/models.git\n",
        "```"
      ]
    },
    {
      "cell_type": "code",
      "metadata": {
        "id": "GOKP70vehQtz",
        "colab_type": "code",
        "outputId": "fc8bdf9e-9a52-4a69-fddd-f3fcd6efa1e2",
        "colab": {
          "base_uri": "https://localhost:8080/",
          "height": 163
        }
      },
      "source": [
        "!git clone https://github.com/tensorflow/models.git"
      ],
      "execution_count": 0,
      "outputs": [
        {
          "output_type": "stream",
          "text": [
            "Cloning into 'models'...\n",
            "remote: Enumerating objects: 8, done.\u001b[K\n",
            "remote: Counting objects:  12% (1/8)\u001b[K\rremote: Counting objects:  25% (2/8)\u001b[K\rremote: Counting objects:  37% (3/8)\u001b[K\rremote: Counting objects:  50% (4/8)\u001b[K\rremote: Counting objects:  62% (5/8)\u001b[K\rremote: Counting objects:  75% (6/8)\u001b[K\rremote: Counting objects:  87% (7/8)\u001b[K\rremote: Counting objects: 100% (8/8)\u001b[K\rremote: Counting objects: 100% (8/8), done.\u001b[K\n",
            "remote: Compressing objects: 100% (8/8), done.\u001b[K\n",
            "remote: Total 34088 (delta 2), reused 6 (delta 0), pack-reused 34080\u001b[K\n",
            "Receiving objects: 100% (34088/34088), 512.16 MiB | 36.96 MiB/s, done.\n",
            "Resolving deltas: 100% (21843/21843), done.\n",
            "Checking out files: 100% (2499/2499), done.\n"
          ],
          "name": "stdout"
        }
      ]
    },
    {
      "cell_type": "markdown",
      "metadata": {
        "id": "Mfmds0TmgW-5",
        "colab_type": "text"
      },
      "source": [
        "Finally, **do not commit those files**"
      ]
    },
    {
      "cell_type": "markdown",
      "metadata": {
        "id": "dH3gPvowgW-8",
        "colab_type": "text"
      },
      "source": [
        "### I.3. Protobuf"
      ]
    },
    {
      "cell_type": "code",
      "metadata": {
        "id": "bqVH6Z0ngW--",
        "colab_type": "code",
        "colab": {}
      },
      "source": [
        ""
      ],
      "execution_count": 0,
      "outputs": []
    },
    {
      "cell_type": "markdown",
      "metadata": {
        "id": "lqq--rSOgW_F",
        "colab_type": "text"
      },
      "source": [
        "Protobuf (for protocol buffer) is a Google system, that will be used for configuration.\n",
        "\n",
        "Go now in the newly cloned repo at the root of the vivadata folder `models/research`, and launch the configuration using protobuf:\n",
        "```\n",
        "protoc object_detection/protos/*.proto --python_out=.\n",
        "```\n",
        "\n",
        "You may need to install the protobuf compiler using the following command on Ubuntu: `sudo apt-get install protobuf-compiler`\n",
        "\n",
        "For MacOS use `brew install protobuf`.\n"
      ]
    },
    {
      "cell_type": "code",
      "metadata": {
        "id": "wq2QtqsMhmk0",
        "colab_type": "code",
        "outputId": "03e26007-08b7-4c6c-af8e-6c19ee3af771",
        "colab": {
          "base_uri": "https://localhost:8080/",
          "height": 163
        }
      },
      "source": [
        "!sudo apt-get install protobuf-compiler"
      ],
      "execution_count": 0,
      "outputs": [
        {
          "output_type": "stream",
          "text": [
            "Reading package lists... Done\n",
            "Building dependency tree       \n",
            "Reading state information... Done\n",
            "protobuf-compiler is already the newest version (3.0.0-9.1ubuntu1).\n",
            "The following package was automatically installed and is no longer required:\n",
            "  libnvidia-common-430\n",
            "Use 'sudo apt autoremove' to remove it.\n",
            "0 upgraded, 0 newly installed, 0 to remove and 25 not upgraded.\n"
          ],
          "name": "stdout"
        }
      ]
    },
    {
      "cell_type": "code",
      "metadata": {
        "id": "7qWxI6lVh4I_",
        "colab_type": "code",
        "colab": {}
      },
      "source": [
        ""
      ],
      "execution_count": 0,
      "outputs": []
    },
    {
      "cell_type": "code",
      "metadata": {
        "id": "0r3nHHUkh4bQ",
        "colab_type": "code",
        "outputId": "5e24f62e-3406-4af1-eb70-577727411415",
        "colab": {
          "base_uri": "https://localhost:8080/",
          "height": 35
        }
      },
      "source": [
        "#aller ds le repertoire\n",
        "%cd models/research/"
      ],
      "execution_count": 0,
      "outputs": [
        {
          "output_type": "stream",
          "text": [
            "/content/models/research\n"
          ],
          "name": "stdout"
        }
      ]
    },
    {
      "cell_type": "code",
      "metadata": {
        "id": "VKe07QB4h4Ee",
        "colab_type": "code",
        "outputId": "e416bf47-61ac-4e8f-f685-213a8ad81e74",
        "colab": {
          "base_uri": "https://localhost:8080/",
          "height": 35
        }
      },
      "source": [
        "!protoc object_detection/protos/*.proto --python_out=."
      ],
      "execution_count": 0,
      "outputs": [
        {
          "output_type": "stream",
          "text": [
            "object_detection/protos/*.proto: No such file or directory\n"
          ],
          "name": "stdout"
        }
      ]
    },
    {
      "cell_type": "code",
      "metadata": {
        "id": "rvQ1U_5NiTWI",
        "colab_type": "code",
        "outputId": "1a12b899-55e2-435f-b1e6-e231fc6535e1",
        "colab": {
          "base_uri": "https://localhost:8080/",
          "height": 35
        }
      },
      "source": [
        "#revenir le rep courant\n",
        "%cd /content/"
      ],
      "execution_count": 0,
      "outputs": [
        {
          "output_type": "stream",
          "text": [
            "/content\n"
          ],
          "name": "stdout"
        }
      ]
    },
    {
      "cell_type": "markdown",
      "metadata": {
        "id": "-3MeIpCsgW_H",
        "colab_type": "text"
      },
      "source": [
        "## II. Object Detection"
      ]
    },
    {
      "cell_type": "markdown",
      "metadata": {
        "id": "BJQ1Qoe2gW_L",
        "colab_type": "text"
      },
      "source": [
        "### II.1. Setting the paths to the trained graph"
      ]
    },
    {
      "cell_type": "markdown",
      "metadata": {
        "id": "Kz8ehQALgW_P",
        "colab_type": "text"
      },
      "source": [
        "First, we set the paths of the model we will use in a variable called `PATH_TO_CKPT`: this is the path to the `frozen_inference_graph.pb` that you downloaded in I.2."
      ]
    },
    {
      "cell_type": "code",
      "metadata": {
        "id": "h4kqg128gW_U",
        "colab_type": "code",
        "colab": {}
      },
      "source": [
        "### TODO: define the variable PATH_TO_CKP\n",
        "PATH_TO_CKPT = \"faster_rcnn_inception_v2_coco_2018_01_28/frozen_inference_graph.pb\""
      ],
      "execution_count": 0,
      "outputs": []
    },
    {
      "cell_type": "markdown",
      "metadata": {
        "id": "2n6sQM4-gW_c",
        "colab_type": "text"
      },
      "source": [
        "Next you have to set the paths to the labels: indeed labels are just numbers, but we want them to be strings so that we can understand! The table to do so is in the folder you cloned: `models/research/object_detection/data/mscoco_label_map.pbtxt`.\n",
        "\n",
        "Put that path into the variable `PATH_TO_LABELS`:"
      ]
    },
    {
      "cell_type": "code",
      "metadata": {
        "id": "Sj0ZnUu4gW_f",
        "colab_type": "code",
        "colab": {}
      },
      "source": [
        "### TODO: define the variable PATH_TO_LABELS\n",
        "PATH_TO_LABELS = \"models/research/object_detection/data/mscoco_label_map.pbtxt\""
      ],
      "execution_count": 0,
      "outputs": []
    },
    {
      "cell_type": "markdown",
      "metadata": {
        "id": "CfKxWpVdgW_l",
        "colab_type": "text"
      },
      "source": [
        "Have a look at this file. How many classes are there? Put that value into a variable called `NUM_CLASSES`"
      ]
    },
    {
      "cell_type": "code",
      "metadata": {
        "id": "9jUQ3J6hgW_n",
        "colab_type": "code",
        "colab": {}
      },
      "source": [
        "### TODO: define the variable NUM_CLASSES\n",
        "with open(PATH_TO_LABELS,\"r\") as f :\n",
        "  classe = f.read()\n"
      ],
      "execution_count": 0,
      "outputs": []
    },
    {
      "cell_type": "code",
      "metadata": {
        "id": "1BB6fxB1lo2i",
        "colab_type": "code",
        "outputId": "cd9c63df-a37d-4456-bf1f-fa3db62bea12",
        "colab": {
          "base_uri": "https://localhost:8080/",
          "height": 35
        }
      },
      "source": [
        "NUM_CLASSES = classe.count(\"display_name\")\n",
        "NUM_CLASSES"
      ],
      "execution_count": 0,
      "outputs": [
        {
          "output_type": "execute_result",
          "data": {
            "text/plain": [
              "80"
            ]
          },
          "metadata": {
            "tags": []
          },
          "execution_count": 41
        }
      ]
    },
    {
      "cell_type": "code",
      "metadata": {
        "id": "szwrfFhLlotc",
        "colab_type": "code",
        "outputId": "75fefc79-8a58-45bc-a408-5abcc35f8de9",
        "colab": {
          "base_uri": "https://localhost:8080/",
          "height": 35
        }
      },
      "source": [
        "!pwd"
      ],
      "execution_count": 0,
      "outputs": [
        {
          "output_type": "stream",
          "text": [
            "/content\n"
          ],
          "name": "stdout"
        }
      ]
    },
    {
      "cell_type": "markdown",
      "metadata": {
        "id": "HmNYQ50PgW_y",
        "colab_type": "text"
      },
      "source": [
        "### II.2. Testing object detection"
      ]
    },
    {
      "cell_type": "markdown",
      "metadata": {
        "id": "kRBm7jUEgW_z",
        "colab_type": "text"
      },
      "source": [
        "We made some utils functions for you, so that you will just have to put them together to do the object detection.\n",
        "\n",
        "First, with the following code, you will compute the graph with the trained weights you downloaded:"
      ]
    },
    {
      "cell_type": "code",
      "metadata": {
        "id": "I8BhgNk0gW_1",
        "colab_type": "code",
        "colab": {}
      },
      "source": [
        "import tensorflow.compat.v1 as tf\n",
        "\n",
        "# Compute the graph\n",
        "detection_graph = tf.Graph()\n",
        "with detection_graph.as_default():\n",
        "    od_graph_def = tf.GraphDef()\n",
        "    with tf.gfile.GFile(PATH_TO_CKPT,'rb') as fid:\n",
        "        serialized_graph = fid.read()\n",
        "        od_graph_def.ParseFromString(serialized_graph)\n",
        "        tf.import_graph_def(od_graph_def, name='')"
      ],
      "execution_count": 0,
      "outputs": []
    },
    {
      "cell_type": "markdown",
      "metadata": {
        "id": "-jBNdyIugW_8",
        "colab_type": "text"
      },
      "source": [
        "Then, you will have to use the functions `run_inference_for_single_image` provided in the `utils.py` file. This function is easy to find on the TensorFlow Object Detection API. Have a look at it and try to understand the big picture.\n",
        "\n",
        "Then use it on the provided test images: `image1.jpg`, `image2` and `image3.jpg`."
      ]
    },
    {
      "cell_type": "code",
      "metadata": {
        "id": "1DUl-o0QgXAA",
        "colab_type": "code",
        "colab": {}
      },
      "source": [
        "import matplotlib.pyplot as plt\n",
        "import matplotlib.patches as pacthes\n",
        "img_link = \"/content/drive/My Drive/vvdt-inphb-student/05-Object-Detection/01-Challenges/01-Boxes-Computation/src/input/image1.jpg\"\n",
        "img_link1 = \"/content/drive/My Drive/vvdt-inphb-student/05-Object-Detection/01-Challenges/01-Boxes-Computation/src/input/image2.jpg\"\n",
        "img_link2= \"/content/drive/My Drive/vvdt-inphb-student/05-Object-Detection/01-Challenges/01-Boxes-Computation/src/input/image3.jpg\"\n",
        "img = plt.imread(img_link)\n",
        "img1 = plt.imread(img_link1)\n",
        "img2 = plt.imread(img_link2)"
      ],
      "execution_count": 0,
      "outputs": []
    },
    {
      "cell_type": "code",
      "metadata": {
        "id": "FRejMgobQ5bC",
        "colab_type": "code",
        "colab": {}
      },
      "source": [
        "from utils import run_inference_for_single_image\n",
        "\n",
        "dico1 = run_inference_for_single_image(img,detection_graph)\n",
        "\n",
        "dico2 = run_inference_for_single_image(img1,detection_graph)\n",
        "\n",
        "dico3 = run_inference_for_single_image(img2,detection_graph)"
      ],
      "execution_count": 0,
      "outputs": []
    },
    {
      "cell_type": "code",
      "metadata": {
        "id": "FArgkEP0Qhwn",
        "colab_type": "code",
        "outputId": "89e9c106-1374-41d1-c450-8f07d82b914f",
        "colab": {
          "base_uri": "https://localhost:8080/",
          "height": 128
        }
      },
      "source": [
        "from google.colab import drive\n",
        "drive.mount('/content/drive')"
      ],
      "execution_count": 0,
      "outputs": [
        {
          "output_type": "stream",
          "text": [
            "Go to this URL in a browser: https://accounts.google.com/o/oauth2/auth?client_id=947318989803-6bn6qk8qdgf4n4g3pfee6491hc0brc4i.apps.googleusercontent.com&redirect_uri=urn%3aietf%3awg%3aoauth%3a2.0%3aoob&response_type=code&scope=email%20https%3a%2f%2fwww.googleapis.com%2fauth%2fdocs.test%20https%3a%2f%2fwww.googleapis.com%2fauth%2fdrive%20https%3a%2f%2fwww.googleapis.com%2fauth%2fdrive.photos.readonly%20https%3a%2f%2fwww.googleapis.com%2fauth%2fpeopleapi.readonly\n",
            "\n",
            "Enter your authorization code:\n",
            "··········\n",
            "Mounted at /content/drive\n"
          ],
          "name": "stdout"
        }
      ]
    },
    {
      "cell_type": "markdown",
      "metadata": {
        "id": "O6n82yr-gXAH",
        "colab_type": "text"
      },
      "source": [
        "Now have a look at the output dictionary, can you understand its content? Save them in pickle format, in the next part of the challenge we will display and post process them!"
      ]
    },
    {
      "cell_type": "code",
      "metadata": {
        "id": "xRrnSxYvgXAJ",
        "colab_type": "code",
        "colab": {}
      },
      "source": [
        "import pickle\n",
        "\n",
        "with open(\"\")\n",
        "pickle.dump(dico1, open(\"dico1.pickle\",\"xb\"))\n",
        "pickle.dump(dico2, open(\"dico2.pickle\",\"xb\"))\n",
        "pickle.dump(dico3, open(\"dico3.pickle\",\"xb\"))"
      ],
      "execution_count": 0,
      "outputs": []
    }
  ]
}