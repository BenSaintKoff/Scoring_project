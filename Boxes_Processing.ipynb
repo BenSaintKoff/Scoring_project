{
  "nbformat": 4,
  "nbformat_minor": 0,
  "metadata": {
    "kernelspec": {
      "display_name": "Python 3",
      "language": "python",
      "name": "python3"
    },
    "language_info": {
      "codemirror_mode": {
        "name": "ipython",
        "version": 3
      },
      "file_extension": ".py",
      "mimetype": "text/x-python",
      "name": "python",
      "nbconvert_exporter": "python",
      "pygments_lexer": "ipython3",
      "version": "3.7.4"
    },
    "toc": {
      "base_numbering": 1,
      "nav_menu": {},
      "number_sections": true,
      "sideBar": true,
      "skip_h1_title": false,
      "title_cell": "Table of Contents",
      "title_sidebar": "Contents",
      "toc_cell": false,
      "toc_position": {},
      "toc_section_display": true,
      "toc_window_display": false
    },
    "varInspector": {
      "cols": {
        "lenName": 16,
        "lenType": 16,
        "lenVar": 40
      },
      "kernels_config": {
        "python": {
          "delete_cmd_postfix": "",
          "delete_cmd_prefix": "del ",
          "library": "var_list.py",
          "varRefreshCmd": "print(var_dic_list())"
        },
        "r": {
          "delete_cmd_postfix": ") ",
          "delete_cmd_prefix": "rm(",
          "library": "var_list.r",
          "varRefreshCmd": "cat(var_dic_list()) "
        }
      },
      "types_to_exclude": [
        "module",
        "function",
        "builtin_function_or_method",
        "instance",
        "_Feature"
      ],
      "window_display": false
    },
    "colab": {
      "name": "Boxes-Processing.ipynb",
      "provenance": [],
      "toc_visible": true,
      "include_colab_link": true
    }
  },
  "cells": [
    {
      "cell_type": "markdown",
      "metadata": {
        "id": "view-in-github",
        "colab_type": "text"
      },
      "source": [
        "<a href=\"https://colab.research.google.com/github/BenSaintKoff/Scoring_project/blob/master/Boxes_Processing.ipynb\" target=\"_parent\"><img src=\"https://colab.research.google.com/assets/colab-badge.svg\" alt=\"Open In Colab\"/></a>"
      ]
    },
    {
      "cell_type": "markdown",
      "metadata": {
        "id": "ruFRXntlZlHJ",
        "colab_type": "text"
      },
      "source": [
        "# Boxes Processing"
      ]
    },
    {
      "cell_type": "markdown",
      "metadata": {
        "id": "ymn02HqSZlHN",
        "colab_type": "text"
      },
      "source": [
        "Now that have computed the object detection on two sample images, we will display the results, and process them if needed!"
      ]
    },
    {
      "cell_type": "markdown",
      "metadata": {
        "id": "rHlBIq9cZlHS",
        "colab_type": "text"
      },
      "source": [
        "## I. Visualization"
      ]
    },
    {
      "cell_type": "markdown",
      "metadata": {
        "id": "ielpulD0ZlHW",
        "colab_type": "text"
      },
      "source": [
        "### I.1. Loading"
      ]
    },
    {
      "cell_type": "markdown",
      "metadata": {
        "id": "tTEdHJO6ZlHb",
        "colab_type": "text"
      },
      "source": [
        "First things first: load the images and the dictionaries saved in pickle format at the end of the last challenge."
      ]
    },
    {
      "cell_type": "code",
      "metadata": {
        "id": "IHp2utLdZlHf",
        "colab_type": "code",
        "colab": {}
      },
      "source": [
        "### TODO: Load the pickle dicts and the images\n",
        "import pickle\n",
        "path1 = \"/content/dico1.pickle\"\n",
        "path2 = \"/content/dico2.pickle\"\n",
        "path3 = \"/content/dico3.pickle\"\n",
        "\n",
        "with open(path1,\"rb\") as f:\n",
        "  dico1 = pickle.load(f)\n",
        "\n",
        "with open(path2,\"rb\") as f:\n",
        "  dico2 = pickle.load(f)\n",
        "\n",
        "with open(path3,\"rb\") as f:\n",
        "  dico3 = pickle.load(f)\n"
      ],
      "execution_count": 0,
      "outputs": []
    },
    {
      "cell_type": "code",
      "metadata": {
        "id": "GL_HYDsya-Yt",
        "colab_type": "code",
        "colab": {}
      },
      "source": [
        "from google.colab import drive\n",
        "drive.mount('/content/drive')"
      ],
      "execution_count": 0,
      "outputs": []
    },
    {
      "cell_type": "code",
      "metadata": {
        "id": "_VO96TQtjaXW",
        "colab_type": "code",
        "outputId": "56f4b848-3f1a-4a29-b470-d8aea7dd2c3c",
        "colab": {
          "base_uri": "https://localhost:8080/",
          "height": 163
        }
      },
      "source": [
        "!git clone https://github.com/tensorflow/models.git"
      ],
      "execution_count": 0,
      "outputs": [
        {
          "output_type": "stream",
          "text": [
            "Cloning into 'models'...\n",
            "remote: Enumerating objects: 15, done.\u001b[K\n",
            "remote: Counting objects: 100% (15/15), done.\u001b[K\n",
            "remote: Compressing objects: 100% (14/14), done.\u001b[K\n",
            "remote: Total 34095 (delta 3), reused 9 (delta 1), pack-reused 34080\u001b[K\n",
            "Receiving objects: 100% (34095/34095), 512.37 MiB | 34.35 MiB/s, done.\n",
            "Resolving deltas: 100% (21850/21850), done.\n",
            "Checking out files: 100% (2499/2499), done.\n"
          ],
          "name": "stdout"
        }
      ]
    },
    {
      "cell_type": "markdown",
      "metadata": {
        "id": "kx3OGH4MZlHs",
        "colab_type": "text"
      },
      "source": [
        "### I.2. Playing with the labels"
      ]
    },
    {
      "cell_type": "markdown",
      "metadata": {
        "id": "ntdNrsV9ZlHv",
        "colab_type": "text"
      },
      "source": [
        "To make a proper visualization, we may want the labels as strings, not as integers. For that, we will need to use the label list, which is in `models/research/object_detection/data/mscoco_label_map.pbtxt`, in the folder you cloned in previous challenge. Save the path to this file into the variable `PATH_TO_LABELS`.\n",
        "\n",
        "Using this path, as well as the functions `load_labelmap`, `convert_label_map_to_categories` and `create_category_index` from the `label_map_util` module, you can get all we will need for visualization!"
      ]
    },
    {
      "cell_type": "code",
      "metadata": {
        "id": "xuEUjZHhwxie",
        "colab_type": "code",
        "colab": {}
      },
      "source": [
        ""
      ],
      "execution_count": 0,
      "outputs": []
    },
    {
      "cell_type": "code",
      "metadata": {
        "id": "iDTF63OMZlHz",
        "colab_type": "code",
        "colab": {}
      },
      "source": [
        "### TODO: Import label_map_util and define the PATH_TO_LABELS variable\n",
        "import sys\n",
        "PATH_TO_LABELS = \"models/research/object_detection/data/mscoco_label_map.pbtxt\"\n"
      ],
      "execution_count": 0,
      "outputs": []
    },
    {
      "cell_type": "code",
      "metadata": {
        "id": "COUEIpwsf1Nf",
        "colab_type": "code",
        "colab": {}
      },
      "source": [
        "import sys\n",
        "sys.path.append(\"/content/drive/My Drive/vvdt-inphb-student/05-Object-Detection/01-Challenges/02-Boxes-Processing/input\")"
      ],
      "execution_count": 0,
      "outputs": []
    },
    {
      "cell_type": "code",
      "metadata": {
        "id": "6HWF11xZkWmk",
        "colab_type": "code",
        "colab": {}
      },
      "source": [
        "from label_map_util import * "
      ],
      "execution_count": 0,
      "outputs": []
    },
    {
      "cell_type": "code",
      "metadata": {
        "id": "TDl-vc_KZlIA",
        "colab_type": "code",
        "colab": {}
      },
      "source": [
        "\n",
        "# Here we use those functions for you\n",
        "NUM_CLASSES = 80\n",
        "label_map = load_labelmap(PATH_TO_LABELS)\n",
        "categories = convert_label_map_to_categories(label_map, max_num_classes=NUM_CLASSES, use_display_name=True)\n",
        "category_index = create_category_index(categories)"
      ],
      "execution_count": 0,
      "outputs": []
    },
    {
      "cell_type": "markdown",
      "metadata": {
        "id": "b-ZTjvuoZlII",
        "colab_type": "text"
      },
      "source": [
        "Play with the created variables and understand what they are."
      ]
    },
    {
      "cell_type": "markdown",
      "metadata": {
        "id": "JwmGjYl_ZlIL",
        "colab_type": "text"
      },
      "source": [
        "### 1.3. Visualization of the object detection"
      ]
    },
    {
      "cell_type": "markdown",
      "metadata": {
        "id": "WdXj1nIAZlIN",
        "colab_type": "text"
      },
      "source": [
        "Finally, use the function `display_image_with_boxes` provided below, display the images with the corresponding predictions. For each image, print the number of detected objects in the image."
      ]
    },
    {
      "cell_type": "code",
      "metadata": {
        "id": "SxqN_M0Px6Y-",
        "colab_type": "code",
        "colab": {}
      },
      "source": [
        "img_1 = plt.imread(\"/content/drive/My Drive/vvdt-inphb-student/05-Object-Detection/01-Challenges/01-Boxes-Computation/src/input/image1.jpg\")\n",
        "img_2 = plt.imread(\"/content/drive/My Drive/vvdt-inphb-student/05-Object-Detection/01-Challenges/01-Boxes-Computation/src/input/image2.jpg\")\n",
        "img_3 = plt.imread(\"/content/drive/My Drive/vvdt-inphb-student/05-Object-Detection/01-Challenges/01-Boxes-Computation/src/input/image3.jpg\")"
      ],
      "execution_count": 0,
      "outputs": []
    },
    {
      "cell_type": "code",
      "metadata": {
        "id": "oOWFQB1rZlIS",
        "colab_type": "code",
        "colab": {}
      },
      "source": [
        "import matplotlib.pyplot as plt\n",
        "from matplotlib.patches import Rectangle\n",
        "\n",
        "def tf_box_to_matplotlib(box, im):\n",
        "    x = box[1]*im.shape[1]\n",
        "    y = box[0]*im.shape[0]\n",
        "    width = (box[3]-box[1])*im.shape[1]\n",
        "    height = (box[2]-box[0])*im.shape[0]\n",
        "    \n",
        "    return x, y, width, height\n",
        "\n",
        "def display_image_with_boxes(image, dico, threshold=0):\n",
        "\n",
        "    fig, ax = plt.subplots(1, figsize=(14,10))\n",
        "    plt.imshow(image)\n",
        "\n",
        "    for i in range(dico['num_detections']):\n",
        "        score = dico['detection_scores'][i]\n",
        "        clas = category_index[dico['detection_classes'][i]]['name']\n",
        "\n",
        "        if score >= threshold:\n",
        "\n",
        "            display = str(\"{:.2f}\".format(score))+' '+clas\n",
        "\n",
        "            x, y, w, h = tf_box_to_matplotlib(dico['detection_boxes'][i], image)\n",
        "            ax.add_patch(Rectangle((x, y), w, h,linewidth=1,edgecolor='r',facecolor='none'))\n",
        "            plt.text(x, y-10, display, color='red', fontsize=10)\n",
        "\n",
        "    plt.axis('off')\n",
        "    plt.show()"
      ],
      "execution_count": 0,
      "outputs": []
    },
    {
      "cell_type": "code",
      "metadata": {
        "id": "2P-sUjzRZlIa",
        "colab_type": "code",
        "colab": {}
      },
      "source": [
        "### TODO: use display_image_with_boxes and display the result\n",
        "display_image_with_boxes(img_3,dico3)\n",
        "#plt.show()\n",
        "#plt.imshow(img_2)"
      ],
      "execution_count": 0,
      "outputs": []
    },
    {
      "cell_type": "markdown",
      "metadata": {
        "id": "NcvNl8iRZlIs",
        "colab_type": "text"
      },
      "source": [
        "**What do you think?** Is it working good enough? In particular, compare the number of detected object and the number of objects you see in the image.\n",
        "\n",
        "What could we do to improve our results?"
      ]
    },
    {
      "cell_type": "markdown",
      "metadata": {
        "id": "NqxzlISgZlIu",
        "colab_type": "text"
      },
      "source": [
        "## II. Post processing"
      ]
    },
    {
      "cell_type": "markdown",
      "metadata": {
        "id": "Zmz5xEqSZlIw",
        "colab_type": "text"
      },
      "source": [
        "We have to perform non max suppression in order to be really consistent. The first step is to compute the Intersection over Union (IoU)."
      ]
    },
    {
      "cell_type": "markdown",
      "metadata": {
        "id": "mFhW00XsZlIy",
        "colab_type": "text"
      },
      "source": [
        "### II.1. IoU"
      ]
    },
    {
      "cell_type": "markdown",
      "metadata": {
        "id": "o6RGUDx6ZlI0",
        "colab_type": "text"
      },
      "source": [
        "You will implement a function `iou(box1, box2)`, knowing that boxes in the dictionary follow the format `box = [ymin, xmin, ymax, xmax]`.\n",
        "\n",
        "Computing the IoU may seem easy, but is actually a bit tricky: there are a lot of cases to take into account.\n",
        "\n",
        "To help you out, consider the following Boxes A and B\n",
        "\n",
        "<p align=\"center\">\n",
        "<img src=\"https://drive.google.com/uc?export=view&id=1m1ZmLEdNkMHY3DNiBrCUlOUUO_tlD8zQ\">\n",
        "</p>"
      ]
    },
    {
      "cell_type": "markdown",
      "metadata": {
        "id": "Hznc6HimZlI2",
        "colab_type": "text"
      },
      "source": [
        "The first step is to compute the **intersection** of those two boxes. Implement a function `intersection(boxA, boxB)` that computes the intersection of the boxes A and B.\n",
        "\n",
        "There are 4 distinct cases to take into account:\n",
        "- the blue box is on the top left of the red one\n",
        "- the blue box is on the top right of the red one\n",
        "- the blue box is on the bottom left of the red one\n",
        "- the blue box is on the bottom right of the red one\n",
        "\n",
        "Finally, there is one extreme case: when the two boxes have no intersection.\n",
        "\n",
        "Feel free to take a sheet of paper and try out all those cases to implement the `intersect` function."
      ]
    },
    {
      "cell_type": "code",
      "metadata": {
        "id": "Tbm78qJrZlI4",
        "colab_type": "code",
        "colab": {}
      },
      "source": [
        "### TODO: implement intersect(box1, box2)\n"
      ],
      "execution_count": 0,
      "outputs": []
    },
    {
      "cell_type": "markdown",
      "metadata": {
        "id": "OHxGhf2VZlJC",
        "colab_type": "text"
      },
      "source": [
        "Then you can compute the **union** of those two boxes. One can notice that the union is nothing but area of the two boxes, minus the intersection:\n",
        "$$\n",
        "union(A, B) = area(A) + area(B) - intersection(A, B)\n",
        "$$\n",
        "\n",
        "Now implement the function `union(boxA, boxB)`."
      ]
    },
    {
      "cell_type": "code",
      "metadata": {
        "id": "OzMKOZveZlJF",
        "colab_type": "code",
        "colab": {}
      },
      "source": [
        "### TODO: implement union(box1, box2)\n"
      ],
      "execution_count": 0,
      "outputs": []
    },
    {
      "cell_type": "markdown",
      "metadata": {
        "id": "C3lQMs6ZZlJO",
        "colab_type": "text"
      },
      "source": [
        "Finally, implement the function `iou(box1, box2)` using the two functions you just implemented."
      ]
    },
    {
      "cell_type": "code",
      "metadata": {
        "id": "4ds01M6BZlJQ",
        "colab_type": "code",
        "colab": {}
      },
      "source": [
        "### TODO: implement iou(box1, box2)\n"
      ],
      "execution_count": 0,
      "outputs": []
    },
    {
      "cell_type": "markdown",
      "metadata": {
        "id": "jlDmxv0pZlJf",
        "colab_type": "text"
      },
      "source": [
        "To make sure it works, feel free to test your IoU function on several examples."
      ]
    },
    {
      "cell_type": "markdown",
      "metadata": {
        "id": "Y_jxeApXZlJj",
        "colab_type": "text"
      },
      "source": [
        "### II.2. Non max suppression"
      ]
    },
    {
      "cell_type": "markdown",
      "metadata": {
        "id": "wEiqs3vkZlJl",
        "colab_type": "text"
      },
      "source": [
        "Now comes the big part: you will have to implement the `non_max_suppression` function.\n",
        "\n",
        "This function will take as input a dictionary (output of TensorFlow computed in previous challenge), a iou threshold and a detection threshold. This function should output a dictionary containing only the non supressed boxes and detections.\n",
        "\n",
        "An easier way would be to make two functions. First, implement a function `apply_detection_threshold(detections, detection_threshold)` that removes all the boxes below a given `detection_threshold`.\n",
        "\n",
        "Then, implement a function `non_max_suppression(detections, iou_threshold, detection_threshold)`. This function applies the detection threshold first with `detection_threshold`. Then, loop over all the boxes, keep the highest score, and remove all the boxes with an IoU below the `iou_threshold`, until there is no box left.\n",
        "\n",
        "This is a quite complicated function to write, do not worry if you struggle at some point."
      ]
    },
    {
      "cell_type": "code",
      "metadata": {
        "id": "K60Daw3TZlJm",
        "colab_type": "code",
        "colab": {}
      },
      "source": [
        "### TODO: implement the non_max_suppresion function\n"
      ],
      "execution_count": 0,
      "outputs": []
    },
    {
      "cell_type": "markdown",
      "metadata": {
        "id": "ACdffYJNZlJw",
        "colab_type": "text"
      },
      "source": [
        "### II.3. Visualize new results"
      ]
    },
    {
      "cell_type": "markdown",
      "metadata": {
        "id": "PF13N6hEZlJy",
        "colab_type": "text"
      },
      "source": [
        "Now apply your implemented function `non_max_suppression` and display the new results reusing your previous code. Is it better now? Are there as much boxes as objects?"
      ]
    },
    {
      "cell_type": "code",
      "metadata": {
        "id": "1d28hr3BZlJ0",
        "colab_type": "code",
        "colab": {}
      },
      "source": [
        "### TODO: apply non_max_suppression and display the results\n"
      ],
      "execution_count": 0,
      "outputs": []
    }
  ]
}